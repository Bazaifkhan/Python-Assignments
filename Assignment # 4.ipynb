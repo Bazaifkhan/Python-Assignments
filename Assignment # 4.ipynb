{
 "cells": [
  {
   "cell_type": "code",
   "execution_count": 13,
   "metadata": {},
   "outputs": [
    {
     "name": "stdout",
     "output_type": "stream",
     "text": [
      "{'firstName': 'Bazaif', 'LastName': 'Khan', 'Age': 20, 'city': 'karachi'}\n",
      "{'firstName': 'Bazaif', 'LastName': 'Khan', 'Age': 20, 'city': 'karachi', 'qualfication': 'intermediate'}\n",
      "{'firstName': 'Bazaif', 'LastName': 'Khan', 'Age': 20, 'city': 'karachi', 'qualfication': \"Bachelor's\"}\n",
      "{'firstName': 'Bazaif', 'LastName': 'Khan', 'Age': 20, 'city': 'karachi'}\n"
     ]
    }
   ],
   "source": [
    "# Question 1\n",
    "\n",
    "my_dict = {\n",
    "    \"firstName\" : \"Bazaif\",\n",
    "    \"LastName\" : \"Khan\",\n",
    "    \"Age\" : 20,\n",
    "    \"city\" : \"karachi\",\n",
    "}\n",
    "print(my_dict)\n",
    "\n",
    "my_dict[\"qualfication\"]= \"intermediate\"\n",
    "print(my_dict)\n",
    "\n",
    "my_dict[\"qualfication\"] = \"Bachelor's\"\n",
    "print(my_dict)\n",
    "\n",
    "del my_dict[\"qualfication\"]\n",
    "print(my_dict)"
   ]
  },
  {
   "cell_type": "code",
   "execution_count": 19,
   "metadata": {},
   "outputs": [
    {
     "name": "stdout",
     "output_type": "stream",
     "text": [
      "{'country': 'Japan', 'population': '9.273 million', 'fact': 'Tokyo has the most top-rated restaurants in the world. It is home to over 14 three-star Michelin restaurants.'}\n"
     ]
    }
   ],
   "source": [
    "# Question 2\n",
    "\n",
    "cities = {\n",
    "    \"karachi\" : {\n",
    "        \"country\" : \"Pakistan\",\n",
    "        \"population\" : \"14.90 million\",\n",
    "        \"fact\" : \"Karachi is also known as City of Lights.\"\n",
    "    },\n",
    "    \"tokyo\" : {\n",
    "        \"country\" : \"Japan\",\n",
    "        \"population\" : \"9.273 million\",\n",
    "        \"fact\" : \"Tokyo has the most top-rated restaurants in the world. It is home to over 14 three-star Michelin restaurants.\"\n",
    "    },\n",
    "    \"london\" : {\n",
    "        \"country\" : \"England\",\n",
    "        \"population\" : \"8.9 million\",\n",
    "        \"fact\" : \"Over Than 300 Languages Are Spoken In London\"\n",
    "    }\n",
    "}\n",
    "\n",
    "print(cities[\"tokyo\"])"
   ]
  },
  {
   "cell_type": "code",
   "execution_count": 7,
   "metadata": {},
   "outputs": [
    {
     "name": "stdout",
     "output_type": "stream",
     "text": [
      "Enter your correct age... \n",
      " Enter quit when you are finished...3\n",
      "You get in free!\n",
      "Enter your correct age... \n",
      " Enter quit when you are finished...12\n",
      "Your Ticket is $10.\n",
      "Enter your correct age... \n",
      " Enter quit when you are finished...15\n",
      "Your Ticket is $15.\n",
      "Enter your correct age... \n",
      " Enter quit when you are finished...quit\n"
     ]
    }
   ],
   "source": [
    "# Question 3\n",
    "\n",
    "\n",
    "while True:\n",
    "    age = input(\"Enter your correct age... \\n Enter quit when you are finished...\")\n",
    "    if age == 'quit':\n",
    "        break\n",
    "    age = int(age)\n",
    "    \n",
    "    if age <= 3:\n",
    "        print(\"You get in free!\")\n",
    "    elif age <= 12:\n",
    "        print(\"Your Ticket is $10.\")\n",
    "    else:\n",
    "        print(\"Your Ticket is $15.\")"
   ]
  },
  {
   "cell_type": "code",
   "execution_count": 10,
   "metadata": {},
   "outputs": [
    {
     "name": "stdout",
     "output_type": "stream",
     "text": [
      "such as One of my favorite books is Alice in Wonderland.\n"
     ]
    }
   ],
   "source": [
    "# Question 4\n",
    "\n",
    "def favourite_book(title):\n",
    "    print(title)\n",
    "    \n",
    "favourite_book(\"such as One of my favorite books is Alice in Wonderland.\")"
   ]
  },
  {
   "cell_type": "code",
   "execution_count": 6,
   "metadata": {},
   "outputs": [
    {
     "name": "stdout",
     "output_type": "stream",
     "text": [
      "Guess a a number between 1 to 30...18\n",
      "You Win...\n"
     ]
    }
   ],
   "source": [
    "# Question 5\n",
    "\n",
    "secret_num = 18\n",
    "guess_num = \"\"\n",
    "guess_count = 0\n",
    "guess_limit = 3\n",
    "out_of_guesses = False\n",
    "\n",
    "while guess_num != secret_num and not(out_of_guesses):\n",
    "    if guess_count < guess_limit:\n",
    "        guess_num = int(input(\"Guess a number between 1 to 30...\"))\n",
    "        guess_count += 1\n",
    "    else:\n",
    "        out_of_guesses = True\n",
    "        \n",
    "if out_of_guesses:\n",
    "    print(\"Game Over...\")\n",
    "else:\n",
    "    print(\"You Win...\")"
   ]
  },
  {
   "cell_type": "code",
   "execution_count": null,
   "metadata": {},
   "outputs": [],
   "source": []
  }
 ],
 "metadata": {
  "kernelspec": {
   "display_name": "Python 3",
   "language": "python",
   "name": "python3"
  },
  "language_info": {
   "codemirror_mode": {
    "name": "ipython",
    "version": 3
   },
   "file_extension": ".py",
   "mimetype": "text/x-python",
   "name": "python",
   "nbconvert_exporter": "python",
   "pygments_lexer": "ipython3",
   "version": "3.7.4"
  }
 },
 "nbformat": 4,
 "nbformat_minor": 2
}
