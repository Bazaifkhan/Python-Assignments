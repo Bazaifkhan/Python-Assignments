{
 "cells": [
  {
   "cell_type": "code",
   "execution_count": 1,
   "metadata": {},
   "outputs": [],
   "source": [
    "# Defination of OOP\n",
    "\n",
    "# Python is a multi-paradigm programming language. Meaning, it supports different programming approach.\n",
    "\n",
    "# One of the popular approach to solve a programming problem is by creating objects.\n",
    "# This is known as Object-Oriented Programming (OOP)."
   ]
  },
  {
   "cell_type": "code",
   "execution_count": 2,
   "metadata": {},
   "outputs": [],
   "source": [
    "# Benefits of OOP\n",
    "\n",
    "# 1. Modularity for easier troubleshooting\n",
    "# 2. Reuse of code through inheritance\n",
    "# 3. Flexibility through polymorphism\n",
    "# 4. Effective problem solving"
   ]
  },
  {
   "cell_type": "code",
   "execution_count": 3,
   "metadata": {},
   "outputs": [],
   "source": [
    "# Differenciate between Function and Method\n",
    "\n",
    "                                                # Function\n",
    "# A function is a block of code to carry out a specific task,will contain its own scope and is called by name.\n",
    "# All functions may contain zero(no) arguments or more than one arguments.\n",
    "# On exit, a function can or can not return one or more values.\n",
    "\n",
    "\n",
    "                                                # Method\n",
    "# A method in python is somewhat similar to a function, except it is associated with object/classes.\n",
    "# Methods in python are very similar to functions except for two major differences.\n",
    "# The method is implicitly used for an object for which it is called.\n",
    "# The method is accessible to data that is contained within the class."
   ]
  },
  {
   "cell_type": "code",
   "execution_count": 1,
   "metadata": {},
   "outputs": [],
   "source": [
    "#Defination of Class,Object,Attribute,Behavior\n",
    "\n",
    "                                                # Class\n",
    "# A class is a code template for creating objects. Objects have member variables and have behaviour associated with them.\n",
    "# In python a class is created by the keyword class . An object is created using the constructor of the class.\n",
    "# This object will then be called the instance of the class.\n",
    "\n",
    "                                                # Object\n",
    "# Object is simply a collection of data (variables) and methods (functions) that act on those data. And, class is a blueprint for the object.\n",
    "\n",
    "                                                # Attribute\n",
    "# An instance attribute is a Python variable belonging to one, and only one, object.\n",
    "# This variable is only accessible in the scope of this object and it is defined inside the constructor function, _init_(self,..) of the class.\n",
    "\n",
    "                                                # Behavior\n",
    "# Objects in Python are generally classified according to their behaviors and the features that they implement.\n",
    "# For example, all of the sequence types such as strings, lists, and tuples are grouped together merely because they all happen to support a common set of sequence operations such as s[n], len(s), etc."
   ]
  },
  {
   "cell_type": "code",
   "execution_count": 15,
   "metadata": {},
   "outputs": [
    {
     "name": "stdout",
     "output_type": "stream",
     "text": [
      "2016\n",
      "Blue\n",
      "Corrola\n",
      "1200000\n",
      "\n",
      " \n",
      "\n",
      "2019 new model\n",
      "White\n",
      "Grand corrola\n",
      "2000000\n"
     ]
    }
   ],
   "source": [
    "# Question 5\n",
    "\n",
    "class Car():\n",
    "    def __init__(self,model,color,name,price):\n",
    "        self.model = model\n",
    "        self.color = color\n",
    "        self.name = name\n",
    "        self.price =price\n",
    "        \n",
    "    def updateModel(self,model):\n",
    "        self.model = model\n",
    "        \n",
    "    def updateColor(self,color):\n",
    "        self.color = color\n",
    "        \n",
    "    def updateName(self,name):\n",
    "        self.name = name\n",
    "        \n",
    "    def updatePrice(self,price):\n",
    "        self.price = price\n",
    "        \n",
    "car1 = Car(2016,\"Blue\",\"Corrola\",1200000)\n",
    "\n",
    "print(car1.model)\n",
    "print(car1.color)\n",
    "print(car1.name)\n",
    "print(car1.price)\n",
    "\n",
    "print(\"\\n \\n\")\n",
    "car1.updateModel(2019)\n",
    "print(car1.model, \"new model\")\n",
    "\n",
    "car1.updateColor(\"White\")\n",
    "print(car1.color)\n",
    "\n",
    "car1.updateName(\"Grand corrola\")\n",
    "print(car1.name)\n",
    "\n",
    "car1.updatePrice(2000000)\n",
    "print(car1.price)"
   ]
  },
  {
   "cell_type": "code",
   "execution_count": null,
   "metadata": {},
   "outputs": [],
   "source": []
  }
 ],
 "metadata": {
  "kernelspec": {
   "display_name": "Python 3",
   "language": "python",
   "name": "python3"
  },
  "language_info": {
   "codemirror_mode": {
    "name": "ipython",
    "version": 3
   },
   "file_extension": ".py",
   "mimetype": "text/x-python",
   "name": "python",
   "nbconvert_exporter": "python",
   "pygments_lexer": "ipython3",
   "version": "3.7.4"
  }
 },
 "nbformat": 4,
 "nbformat_minor": 2
}
