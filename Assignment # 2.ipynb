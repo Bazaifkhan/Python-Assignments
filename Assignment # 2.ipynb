{
 "cells": [
  {
   "cell_type": "code",
   "execution_count": null,
   "metadata": {},
   "outputs": [],
   "source": [
    "# Mark Sheet\n",
    "\n",
    "math = int(input(\"Enter Your Obtained Marks In Mathematic: \"))\n",
    "phy = int(input(\"Enter Your Obtained Marks In Physics: \"))\n",
    "isl = int(input(\"Enter Your Obtained Marks In Islamiat: \"))\n",
    "eng = int(input(\"Enter Your Obtained Marks In English: \"))\n",
    "urdu = int(input(\"Enter Your Obtained Marks In Urdu: \"))\n",
    "\n",
    "percentage =(math + phy + isl + eng + urdu) * 100 / 500\n",
    "if(percentage >= 90 and percentage <= 100 ):\n",
    "    print(\"Grade: A+1\")\n",
    "elif(percentage >= 80 and percentage < 90):\n",
    "    print(\"Grade: A1\")\n",
    "elif(percentage >= 70 and percentage < 80):\n",
    "    print(\"Grade: A\")\n",
    "elif(percentage >= 60 and percentage < 70):\n",
    "    print(\"Grade: B\")\n",
    "elif(percentage >= 50 and percentage < 60):\n",
    "    print(\"Grade: C\")\n",
    "elif(percentage >= 40 and percentage < 50):\n",
    "    print(\"Grade: D\")\n",
    "elif(percentage >= 33 and percentage < 40):\n",
    "    print(\"Grade: E\") \n",
    "elif(percentage >= 0 and percentage < 33):\n",
    "    print(\"You Are Fail\")\n",
    "else:\n",
    "    print(\"Not Your Result In this Application...\")\n",
    "    "
   ]
  },
  {
   "cell_type": "code",
   "execution_count": 4,
   "metadata": {},
   "outputs": [
    {
     "name": "stdout",
     "output_type": "stream",
     "text": [
      "Enter Your Number 1111\n",
      "This is an odd num \n"
     ]
    }
   ],
   "source": [
    "# Identify Number\n",
    "\n",
    "num = int(input(\"Enter Your Number \"))\n",
    "\n",
    "mod = num % 2\n",
    "\n",
    "if(mod == 0):\n",
    "    print(\"This is an even num \")\n",
    "else:\n",
    "    print(\"This is an odd num \")"
   ]
  },
  {
   "cell_type": "code",
   "execution_count": 7,
   "metadata": {},
   "outputs": [
    {
     "name": "stdout",
     "output_type": "stream",
     "text": [
      "4\n"
     ]
    }
   ],
   "source": [
    "# Length of List\n",
    "\n",
    "list = [\"bazaif\",\"Amaan\",\"Salman\",\"uzair\"]\n",
    "\n",
    "print(len(list))"
   ]
  },
  {
   "cell_type": "code",
   "execution_count": 1,
   "metadata": {
    "scrolled": false
   },
   "outputs": [
    {
     "name": "stdout",
     "output_type": "stream",
     "text": [
      "15\n"
     ]
    }
   ],
   "source": [
    "# Sum or numeric list\n",
    "\n",
    "list = [1,5,4,5]\n",
    "\n",
    "sum = sum(list)\n",
    "\n",
    "print(sum)"
   ]
  },
  {
   "cell_type": "code",
   "execution_count": 2,
   "metadata": {},
   "outputs": [
    {
     "name": "stdout",
     "output_type": "stream",
     "text": [
      "15\n"
     ]
    }
   ],
   "source": [
    "# Get largest num is numeric list\n",
    "\n",
    "list = [1,2,3,4,5,6,7,8,9,10,15]\n",
    "\n",
    "getNum = max(list)\n",
    "\n",
    "print(getNum)\n"
   ]
  },
  {
   "cell_type": "code",
   "execution_count": 2,
   "metadata": {},
   "outputs": [
    {
     "name": "stdout",
     "output_type": "stream",
     "text": [
      "1\n",
      "2\n",
      "3\n",
      "4\n"
     ]
    }
   ],
   "source": [
    "# Get elements of less than 5\n",
    "\n",
    "list = [1,2,3,4,5,6,7,8,9,10]\n",
    "\n",
    "for i in list:\n",
    "    if i < 5:\n",
    "        print(i)"
   ]
  },
  {
   "cell_type": "code",
   "execution_count": null,
   "metadata": {},
   "outputs": [],
   "source": []
  },
  {
   "cell_type": "code",
   "execution_count": null,
   "metadata": {},
   "outputs": [],
   "source": []
  }
 ],
 "metadata": {
  "kernelspec": {
   "display_name": "Python 3",
   "language": "python",
   "name": "python3"
  },
  "language_info": {
   "codemirror_mode": {
    "name": "ipython",
    "version": 3
   },
   "file_extension": ".py",
   "mimetype": "text/x-python",
   "name": "python",
   "nbconvert_exporter": "python",
   "pygments_lexer": "ipython3",
   "version": "3.7.4"
  }
 },
 "nbformat": 4,
 "nbformat_minor": 2
}
