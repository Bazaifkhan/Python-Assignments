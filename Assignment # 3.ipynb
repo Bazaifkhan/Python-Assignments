{
 "cells": [
  {
   "cell_type": "code",
   "execution_count": 6,
   "metadata": {},
   "outputs": [
    {
     "name": "stdout",
     "output_type": "stream",
     "text": [
      "Enter 1st Value10\n",
      "Enter 2nd Value2\n",
      "Enter Operator /\n",
      "Your Answer is  5.0\n"
     ]
    }
   ],
   "source": [
    "# Calculator\n",
    "\n",
    "val1 = int(input(\"Enter 1st Value\"))\n",
    "val2 = int(input(\"Enter 2nd Value\"))\n",
    "operator = input(\"Enter Operator \")\n",
    "\n",
    "if operator == \"+\":\n",
    "    val = val1 + val2\n",
    "    print(\"Your Answer is \", val)\n",
    "elif operator == \"*\":\n",
    "    val = val1 * val2\n",
    "    print(\"Your Answer is \", val)\n",
    "elif operator == \"/\":\n",
    "    val = val1 / val2\n",
    "    print(\"Your Answer is \", val)\n",
    "elif operator == \"-\":\n",
    "    val = val1 - val2\n",
    "    print(\"Your Answer is \", val)\n",
    "else:\n",
    "    print(\"Enter correct Operator\")"
   ]
  },
  {
   "cell_type": "code",
   "execution_count": 20,
   "metadata": {},
   "outputs": [
    {
     "name": "stdout",
     "output_type": "stream",
     "text": [
      "2\n"
     ]
    }
   ],
   "source": [
    "# Checking Numeric value in list\n",
    "\n",
    "testing_list = [\"Bazaif\",\"Amaan\",\"1\",2,\"Salman\",1]\n",
    "\n",
    "for num in testing_list:\n",
    "    if num == 2:\n",
    "        print(num)"
   ]
  },
  {
   "cell_type": "code",
   "execution_count": 22,
   "metadata": {},
   "outputs": [
    {
     "name": "stdout",
     "output_type": "stream",
     "text": [
      "{'First name': 'Bazaif', 'Last name': 'Khan', 'Address': 'Korangi Karachi', 'Language': 'Urdu'}\n"
     ]
    }
   ],
   "source": [
    "# Add key in dictionary\n",
    "\n",
    "dict={\n",
    "    \"First name\" : \"Bazaif\",\n",
    "    \"Last name\" : \"Khan\",\n",
    "    \"Address\" : \"Korangi Karachi\"\n",
    "}\n",
    "\n",
    "dict[\"Language\"] = \"Urdu\"\n",
    "print(dict)"
   ]
  },
  {
   "cell_type": "code",
   "execution_count": 6,
   "metadata": {},
   "outputs": [
    {
     "name": "stdout",
     "output_type": "stream",
     "text": [
      "Sum All dictionary Values 600\n"
     ]
    }
   ],
   "source": [
    "# sum all numeric value in dictionary\n",
    "\n",
    "dict = {\n",
    "    \"A\" : 100,\n",
    "    \"B\" : 200,\n",
    "    \"C\" : 300\n",
    "}\n",
    "\n",
    "sum_values= sum(dict.values())\n",
    "\n",
    "print(\"Sum All dictionary Values\", sum_values)"
   ]
  },
  {
   "cell_type": "code",
   "execution_count": 23,
   "metadata": {},
   "outputs": [
    {
     "name": "stdout",
     "output_type": "stream",
     "text": [
      "[20, 10, 50, 40]\n"
     ]
    }
   ],
   "source": [
    "# Identify dublicate values in list\n",
    "\n",
    "a = [10,20,30,20,10,50,60,40,80,50,40]\n",
    "\n",
    "dup_items = []\n",
    "uniq_items = {}\n",
    "for x in a:\n",
    "    if x not in uniq_items:\n",
    "        uniq_items[x] = 1\n",
    "    else:\n",
    "        if uniq_items[x] == 1:\n",
    "            dup_items.append(x)\n",
    "            uniq_items[x] += 1\n",
    "\n",
    "print(dup_items)"
   ]
  },
  {
   "cell_type": "code",
   "execution_count": 36,
   "metadata": {},
   "outputs": [
    {
     "name": "stdout",
     "output_type": "stream",
     "text": [
      "Enter Dict Value...brother\n",
      "This Key is not in Dictionary...\n"
     ]
    }
   ],
   "source": [
    "# Already exists in a dictionary\n",
    "\n",
    "dict = {\n",
    "    \"Name\" : \"Bazaif Khan\",\n",
    "    \"Father Name\" : \"Satfaraz Khan\",\n",
    "    \"Class\" : \"Python\",\n",
    "    \"Institution\" : \"Saylani Mass Training\"\n",
    "}\n",
    "\n",
    "dict_key = input(\"Enter Dict Value...\").title()\n",
    "\n",
    "for x in dict:\n",
    "    if x == dict_key:\n",
    "        print(\"This Key is Already Exist...\")\n",
    "        break\n",
    "    else:\n",
    "        print(\"This Key is not in Dictionary...\")\n",
    "        break"
   ]
  },
  {
   "cell_type": "code",
   "execution_count": null,
   "metadata": {},
   "outputs": [],
   "source": []
  },
  {
   "cell_type": "code",
   "execution_count": null,
   "metadata": {},
   "outputs": [],
   "source": []
  },
  {
   "cell_type": "code",
   "execution_count": null,
   "metadata": {},
   "outputs": [],
   "source": []
  }
 ],
 "metadata": {
  "kernelspec": {
   "display_name": "Python 3",
   "language": "python",
   "name": "python3"
  },
  "language_info": {
   "codemirror_mode": {
    "name": "ipython",
    "version": 3
   },
   "file_extension": ".py",
   "mimetype": "text/x-python",
   "name": "python",
   "nbconvert_exporter": "python",
   "pygments_lexer": "ipython3",
   "version": "3.7.4"
  }
 },
 "nbformat": 4,
 "nbformat_minor": 2
}
