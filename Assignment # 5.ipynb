{
 "cells": [
  {
   "cell_type": "code",
   "execution_count": 4,
   "metadata": {},
   "outputs": [
    {
     "name": "stdout",
     "output_type": "stream",
     "text": [
      "Input a number to compute the factiorial : 9\n",
      "362880\n"
     ]
    }
   ],
   "source": [
    "# factorial Number\n",
    "\n",
    "def factorial(n):\n",
    "    if n == 0:\n",
    "        return 1\n",
    "    else:\n",
    "        return n * factorial(n-1)\n",
    "n=int(input(\"Input a number to compute the factiorial : \"))\n",
    "print(factorial(n))"
   ]
  },
  {
   "cell_type": "code",
   "execution_count": 11,
   "metadata": {},
   "outputs": [
    {
     "name": "stdout",
     "output_type": "stream",
     "text": [
      "Enter lower and upper case letters...jashxcbvJKHG\n",
      "The number of Upper case alphabates is: 4\n",
      "The number of Lower case alphabates is: 8\n"
     ]
    }
   ],
   "source": [
    "# Calculate Upper case an lower case alphabates\n",
    "\n",
    "string = input(\"Enter lower and upper case letters...\")\n",
    "count1 = 0\n",
    "count2 = 0\n",
    "for i in string:\n",
    "    if(i.isupper()):\n",
    "        count1 = count1 + 1\n",
    "    elif(i.islower()):\n",
    "        count2 = count2 + 1\n",
    "        \n",
    "print('The number of Upper case alphabates is: {}'.format(count1))\n",
    "print(\"The number of Lower case alphabates is: {}\".format(count2))\n"
   ]
  },
  {
   "cell_type": "code",
   "execution_count": 30,
   "metadata": {},
   "outputs": [
    {
     "name": "stdout",
     "output_type": "stream",
     "text": [
      "Even Numbers...\n",
      "2\n",
      "4\n",
      "6\n",
      "8\n",
      "10\n"
     ]
    }
   ],
   "source": [
    "# Print even number\n",
    "\n",
    "def num():\n",
    "    print(\"Even Numbers...\")\n",
    "    lst = [1,2,3,4,5,6,7,8,9,10]\n",
    "    for i in lst:\n",
    "        if i % 2 == 0:\n",
    "            print(i)\n",
    "num()"
   ]
  },
  {
   "cell_type": "code",
   "execution_count": 65,
   "metadata": {},
   "outputs": [
    {
     "name": "stdout",
     "output_type": "stream",
     "text": [
      "Enter stringmadam\n",
      "madam is a palindrome...\n"
     ]
    }
   ],
   "source": [
    "# Checking string is palindrome or not \n",
    "\n",
    "string = input(\"Enter string\").lower()\n",
    "\n",
    "if list(string) == list(reversed(string)):\n",
    "    print(\"{} is a palindrome...\".format(string))\n",
    "else:\n",
    "    print(\"{} is NOT a palindrome...\".format(string))"
   ]
  },
  {
   "cell_type": "code",
   "execution_count": 9,
   "metadata": {},
   "outputs": [
    {
     "name": "stdout",
     "output_type": "stream",
     "text": [
      "71 is a prime number\n"
     ]
    }
   ],
   "source": [
    "def prime(num):\n",
    "    if num > 1:\n",
    "        for i in range(2, num):\n",
    "            if(num % i) == 0:\n",
    "                print(num, \"is not a prime number\")\n",
    "                print(i, \"is muliply\", num//i, \"times\")\n",
    "                break\n",
    "        else:\n",
    "            print(num, \"is a prime number\")\n",
    "    else:\n",
    "        print(num, \"is not a prime number\")\n",
    "        \n",
    "prime(71)"
   ]
  },
  {
   "cell_type": "code",
   "execution_count": 2,
   "metadata": {},
   "outputs": [
    {
     "name": "stdout",
     "output_type": "stream",
     "text": [
      "\n",
      "Enter the item you bought from market \n",
      "If you leave enter'quit': banana\n",
      "\n",
      "Enter the item you bought from market \n",
      "If you leave enter'quit': orange\n",
      "\n",
      "Enter the item you bought from market \n",
      "If you leave enter'quit': pents\n",
      "\n",
      "Enter the item you bought from market \n",
      "If you leave enter'quit': shirts\n",
      "\n",
      "Enter the item you bought from market \n",
      "If you leave enter'quit': shoes\n",
      "\n",
      "Enter the item you bought from market \n",
      "If you leave enter'quit': quit\n",
      "\n",
      "--------- Shopping List --------\n",
      "You bought:  ['banana', 'orange', 'pents', 'shirts', 'shoes']\n"
     ]
    }
   ],
   "source": [
    "def customer_shopping(*shopping_list):\n",
    "    print(\"\\n--------- Shopping List --------\")    \n",
    "    for element in shopping_list:\n",
    "        print(\"You bought: \",element)\n",
    "\n",
    "shopping_list = []\n",
    "\n",
    "while True:\n",
    "    items = input(\"\\nEnter the item you bought from market \\nIf you leave enter'quit': \")\n",
    "    if items == 'quit':\n",
    "        break\n",
    "    shopping_list.append(items)\n",
    "\n",
    "customer_shopping(shopping_list)"
   ]
  },
  {
   "cell_type": "code",
   "execution_count": null,
   "metadata": {},
   "outputs": [],
   "source": []
  },
  {
   "cell_type": "code",
   "execution_count": null,
   "metadata": {},
   "outputs": [],
   "source": []
  }
 ],
 "metadata": {
  "kernelspec": {
   "display_name": "Python 3",
   "language": "python",
   "name": "python3"
  },
  "language_info": {
   "codemirror_mode": {
    "name": "ipython",
    "version": 3
   },
   "file_extension": ".py",
   "mimetype": "text/x-python",
   "name": "python",
   "nbconvert_exporter": "python",
   "pygments_lexer": "ipython3",
   "version": "3.7.4"
  }
 },
 "nbformat": 4,
 "nbformat_minor": 2
}
